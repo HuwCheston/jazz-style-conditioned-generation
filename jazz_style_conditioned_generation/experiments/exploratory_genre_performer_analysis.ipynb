{
 "cells": [
  {
   "metadata": {},
   "cell_type": "markdown",
   "source": [
    "## Exploratory analysis for differences between performers and genres\n",
    "\n",
    "Small little notebook that creates a few different plots showing numbers of genre/performer tags and basic features (sliding pitch class entropy, notes-per-second) between genres"
   ],
   "id": "5585ab3662686c32"
  },
  {
   "cell_type": "code",
   "id": "initial_id",
   "metadata": {
    "collapsed": true,
    "ExecuteTime": {
     "end_time": "2025-04-28T15:15:43.731668Z",
     "start_time": "2025-04-28T15:15:41.973210Z"
    }
   },
   "source": [
    "import os\n",
    "from collections import Counter, defaultdict\n",
    "\n",
    "import pandas as pd\n",
    "import numpy as np\n",
    "from tqdm import tqdm\n",
    "\n",
    "from jazz_style_conditioned_generation import utils, plotting\n",
    "from jazz_style_conditioned_generation.data.conditions import validate_condition_values, INCLUDE\n",
    "from jazz_style_conditioned_generation.data.scores import load_score, preprocess_score, get_notes_from_score"
   ],
   "outputs": [
    {
     "name": "stderr",
     "output_type": "stream",
     "text": [
      "/home/hwc31/jazz-style-conditioned-generation/venv/lib/python3.10/site-packages/tqdm/auto.py:21: TqdmWarning: IProgress not found. Please update jupyter and ipywidgets. See https://ipywidgets.readthedocs.io/en/stable/user_install.html\n",
      "  from .autonotebook import tqdm as notebook_tqdm\n"
     ]
    }
   ],
   "execution_count": 1
  },
  {
   "metadata": {},
   "cell_type": "markdown",
   "source": "### Genre weight counts",
   "id": "b1ccbfb8b6d2562b"
  },
  {
   "metadata": {
    "ExecuteTime": {
     "end_time": "2025-04-28T14:31:03.314068Z",
     "start_time": "2025-04-28T14:31:03.023687Z"
    }
   },
   "cell_type": "code",
   "source": [
    "js = utils.get_data_files_with_ext(\"data/raw\", \"**/*_tivo.json\")\n",
    "genre_count = Counter()\n",
    "albums = set()\n",
    "\n",
    "for p in js:\n",
    "    read = utils.read_json_cached(p)\n",
    "    dataset = p.split(os.path.sep)[-3]\n",
    "    album = read[\"pianist\"] + read[\"tivo_album_name\"]\n",
    "    if album not in albums:\n",
    "        if dataset != \"jja\" and dataset != \"bushgrafts\":\n",
    "            for gen in read[\"genres\"]:\n",
    "                genre_count[gen[\"weight\"]] += 1\n",
    "        albums.add(album)"
   ],
   "id": "a8eeb7a83382ae7e",
   "outputs": [],
   "execution_count": 2
  },
  {
   "metadata": {
    "ExecuteTime": {
     "end_time": "2025-04-28T14:31:05.349776Z",
     "start_time": "2025-04-28T14:31:04.961464Z"
    }
   },
   "cell_type": "code",
   "source": [
    "bp = plotting.BarPlotWeightDistribution(dict(genre_count))\n",
    "bp.create_plot()\n",
    "fpath = os.path.join(utils.get_project_root(), \"outputs/figures/tivo_metadata/barplot_genre_weights\")\n",
    "bp.save_fig(fpath)"
   ],
   "id": "4016f6db202a59e1",
   "outputs": [],
   "execution_count": 3
  },
  {
   "metadata": {},
   "cell_type": "markdown",
   "source": "### Performer/genre bar charts",
   "id": "1dfe66718a3c204"
  },
  {
   "metadata": {
    "ExecuteTime": {
     "end_time": "2025-04-28T15:15:45.274057Z",
     "start_time": "2025-04-28T15:15:44.945842Z"
    }
   },
   "cell_type": "code",
   "source": [
    "metadata = utils.get_data_files_with_ext(\"data/raw\", \"**/*_tivo.json\")\n",
    "metadata_read = [utils.read_json_cached(js) for js in metadata]"
   ],
   "id": "3cf6a6bca2294010",
   "outputs": [],
   "execution_count": 2
  },
  {
   "metadata": {
    "ExecuteTime": {
     "end_time": "2025-04-28T15:15:45.325178Z",
     "start_time": "2025-04-28T15:15:45.322673Z"
    }
   },
   "cell_type": "code",
   "source": [
    "def get_genres(metadat):\n",
    "    track_genres = [(i[\"name\"], i[\"weight\"]) for i in metadat[\"genres\"]]\n",
    "    validated = validate_condition_values(track_genres, \"genres\")\n",
    "    return [g for g, _ in validated]"
   ],
   "id": "aa132692c701620a",
   "outputs": [],
   "execution_count": 3
  },
  {
   "metadata": {
    "ExecuteTime": {
     "end_time": "2025-04-28T14:42:15.610440Z",
     "start_time": "2025-04-28T14:42:15.235529Z"
    }
   },
   "cell_type": "code",
   "source": [
    "pianist_res = Counter()\n",
    "genre_res = Counter()\n",
    "albums = set()\n",
    "\n",
    "for track_fp in metadata:\n",
    "    track = utils.read_json_cached(track_fp)\n",
    "    pianist = track[\"pianist\"]\n",
    "    fp = os.path.join(utils.get_project_root(), \"references/tivo_artist_metadata\", pianist.replace(\" \", \"\") + \".json\")\n",
    "    album = track[\"pianist\"] + track[\"tivo_album_name\"]\n",
    "    if album in albums:\n",
    "        continue\n",
    "\n",
    "    if pianist != \"Doug McKenzie\":\n",
    "        pianist_res[pianist] += 1\n",
    "    # for genre in get_genres(track):\n",
    "    #     genre_res[genre] += 1\n",
    "    for genre in track[\"genres\"]:\n",
    "        genre = genre[\"name\"]\n",
    "        genre_res[genre] += 1\n",
    "    albums.add(album)\n",
    "\n",
    "# Subset to get N top genres\n",
    "sorted_gen_res = Counter()\n",
    "for g, n in sorted(genre_res.items(), key=lambda d: d[1], reverse=True)[:25]:\n",
    "    for _ in range(n):\n",
    "        sorted_gen_res[g] += 1\n",
    "\n",
    "sorted_pin_res = Counter()\n",
    "for g, n in sorted(pianist_res.items(), key=lambda d: d[1], reverse=True)[:25]:\n",
    "    for _ in range(n):\n",
    "        sorted_pin_res[g] += 1"
   ],
   "id": "343aeee78a5e216c",
   "outputs": [],
   "execution_count": 5
  },
  {
   "metadata": {
    "ExecuteTime": {
     "end_time": "2025-04-28T14:36:24.865339Z",
     "start_time": "2025-04-28T14:36:23.631994Z"
    }
   },
   "cell_type": "code",
   "source": [
    "bp = plotting.BarPlotPianistGenreCount([sorted_pin_res, sorted_gen_res])\n",
    "bp.create_plot()\n",
    "fpath = os.path.join(utils.get_project_root(), \"outputs/figures/tivo_metadata/barplot_performer_genre_counts\")\n",
    "bp.save_fig(fpath)"
   ],
   "id": "8c4a4d4aa77829c8",
   "outputs": [],
   "execution_count": 5
  },
  {
   "metadata": {},
   "cell_type": "markdown",
   "source": "### Grouped genre bar chart",
   "id": "d6de43c74184ddd9"
  },
  {
   "metadata": {
    "ExecuteTime": {
     "end_time": "2025-04-28T15:15:48.844644Z",
     "start_time": "2025-04-28T15:15:48.405608Z"
    }
   },
   "cell_type": "code",
   "source": [
    "genre_res = Counter()\n",
    "albums = set()\n",
    "\n",
    "artist_metadatas = utils.get_data_files_with_ext(\"references/tivo_artist_metadata\", \"**/*.json\")\n",
    "\n",
    "for track_fp in metadata:\n",
    "    track = utils.read_json_cached(track_fp)\n",
    "    pianist = track[\"pianist\"]\n",
    "    art_fp = os.path.join(utils.get_project_root(), \"references/tivo_artist_metadata\", pianist.replace(\" \", \"\") + \".json\")\n",
    "    if os.path.isfile(art_fp):\n",
    "        art_js = utils.read_json_cached(art_fp)\n",
    "        for gen in get_genres(art_js):\n",
    "            genre_res[gen] += 1    \n",
    "    for gen in get_genres(track):\n",
    "        genre_res[gen] += 1"
   ],
   "id": "b5e1e32e6e241305",
   "outputs": [],
   "execution_count": 4
  },
  {
   "metadata": {
    "ExecuteTime": {
     "end_time": "2025-04-28T15:15:49.593130Z",
     "start_time": "2025-04-28T15:15:48.883266Z"
    }
   },
   "cell_type": "code",
   "source": [
    "bp = plotting.BarPlotGroupedGenreCounts(genre_res)\n",
    "bp.create_plot()\n",
    "fpath = os.path.join(utils.get_project_root(), \"outputs/figures/tivo_metadata/barplot_grouped_genre_counts\")\n",
    "bp.save_fig(fpath)"
   ],
   "id": "e66e9fb1f91c8972",
   "outputs": [],
   "execution_count": 5
  },
  {
   "metadata": {},
   "cell_type": "markdown",
   "source": "### Performer/genre heatmap",
   "id": "b93b6f3d833304d1"
  },
  {
   "metadata": {
    "ExecuteTime": {
     "end_time": "2025-04-28T14:43:35.347644Z",
     "start_time": "2025-04-28T14:43:35.328983Z"
    }
   },
   "cell_type": "code",
   "source": [
    "res = []    # store results\n",
    "# Loading genres from all track metadata\n",
    "for track in metadata_read:\n",
    "    pianist = track[\"pianist\"]\n",
    "    if pianist not in INCLUDE[\"pianist\"]:\n",
    "        continue\n",
    "    for genre in get_genres(track):\n",
    "        res.append(dict(performer=track[\"pianist\"], genre=genre))"
   ],
   "id": "a1c1df1a482eb23c",
   "outputs": [],
   "execution_count": 9
  },
  {
   "metadata": {
    "ExecuteTime": {
     "end_time": "2025-04-28T14:43:36.838686Z",
     "start_time": "2025-04-28T14:43:36.829385Z"
    }
   },
   "cell_type": "code",
   "source": [
    "# Loading genres from all artist metadata\n",
    "artist_metadatas = utils.get_data_files_with_ext(\"references/tivo_artist_metadata\", \"**/*.json\")\n",
    "for art in artist_metadatas:\n",
    "    read = utils.read_json_cached(art)\n",
    "    pianist = read[\"tivo_artist_name\"]\n",
    "    if pianist not in INCLUDE[\"pianist\"]:\n",
    "        continue\n",
    "    for genre in get_genres(read):\n",
    "        res.append(dict(performer=pianist, genre=genre))"
   ],
   "id": "67f85d5f9f410300",
   "outputs": [],
   "execution_count": 10
  },
  {
   "metadata": {
    "ExecuteTime": {
     "end_time": "2025-04-25T10:03:47.589654Z",
     "start_time": "2025-04-25T10:03:45.672987Z"
    }
   },
   "cell_type": "code",
   "source": [
    "# Create the plot\n",
    "hm = plotting.HeatmapPerformerGenreCounts(pd.DataFrame(res))\n",
    "hm.create_plot()\n",
    "fpath = os.path.join(utils.get_project_root(), \"outputs/figures/tivo_metadata/heatmap_performer_genre_counts\")\n",
    "hm.save_fig(fpath)"
   ],
   "id": "8fa6a91143cfcd71",
   "outputs": [
    {
     "name": "stderr",
     "output_type": "stream",
     "text": [
      "/home/hwc31/jazz-style-conditioned-generation/jazz_style_conditioned_generation/plotting.py:235: FutureWarning: Setting an item of incompatible dtype is deprecated and will raise an error in a future version of pandas. Value '' has dtype incompatible with int64, please explicitly cast to a compatible dtype first.\n",
      "  mask[mask == 0] = \"\"\n"
     ]
    }
   ],
   "execution_count": 6
  },
  {
   "metadata": {},
   "cell_type": "markdown",
   "source": "### Extract sliding pitch-class entropy + notes-per-second per genre",
   "id": "d1eb937627222f3"
  },
  {
   "metadata": {
    "ExecuteTime": {
     "end_time": "2025-04-28T15:31:46.672459Z",
     "start_time": "2025-04-28T15:31:46.669705Z"
    }
   },
   "cell_type": "code",
   "source": [
    "def pc_entropy(notes_) -> float:\n",
    "    # Shamelessly ripped from muspy ;)\n",
    "    counter = np.zeros(12)\n",
    "    for note in notes_:\n",
    "        counter[note.pitch % 12] += 1\n",
    "    denominator = counter.sum()\n",
    "    if denominator < 1:\n",
    "        entropy = np.nan\n",
    "    else:\n",
    "        prob = counter / denominator\n",
    "        with np.errstate(divide=\"ignore\", invalid=\"ignore\"):\n",
    "            # Use natural log (not base 2) for compatibility with PiJAMA paper\n",
    "            entropy = -np.nansum(prob * np.log(prob))\n",
    "    return entropy"
   ],
   "id": "a27e9d4289b8d888",
   "outputs": [],
   "execution_count": 6
  },
  {
   "metadata": {
    "ExecuteTime": {
     "end_time": "2025-04-28T15:37:33.500092Z",
     "start_time": "2025-04-28T15:31:47.780994Z"
    }
   },
   "cell_type": "code",
   "source": [
    "WINDOW = 15    # window size used for sliding pitch class entropy, as in PiJAMA\n",
    "genre_pces = defaultdict(list)\n",
    "genre_nps = defaultdict(list)\n",
    "\n",
    "for track_fp in tqdm(metadata):\n",
    "    # Getting genres associated with the track + artist\n",
    "    track = utils.read_json_cached(track_fp)\n",
    "    pianist = track[\"pianist\"]\n",
    "    genres = get_genres(track)\n",
    "    fp = os.path.join(utils.get_project_root(), \"references/tivo_artist_metadata\", pianist.replace(\" \", \"\") + \".json\")\n",
    "    \n",
    "    # Skip over tracks with no genres\n",
    "    if len(genres) == 0:\n",
    "        continue    \n",
    "    \n",
    "    # Load up the score\n",
    "    score_path = track_fp.replace(\"metadata_tivo.json\", \"piano_midi.mid\")\n",
    "    score = preprocess_score(load_score(score_path, as_seconds=True))\n",
    "    \n",
    "    # Extract sliding pitch-class entropy\n",
    "    notes = get_notes_from_score(score)\n",
    "    all_pces = []\n",
    "    for start in range(0, round(score.end()) - WINDOW):    # 1 second hop\n",
    "        end = start + WINDOW\n",
    "        notes_in_window = [n for n in notes if start < n.time < end]\n",
    "        all_pces.append(pc_entropy(notes_in_window))\n",
    "        \n",
    "    # Extract notes-per-second\n",
    "    all_nps = []\n",
    "    for start in range(0, round(score.end())):    # 1 second hop\n",
    "        end = start + 1.\n",
    "        notes_in_window = [n for n in notes if start < n.time < end]\n",
    "        all_nps.append(len(notes_in_window))\n",
    "    \n",
    "    # Append results for all genres\n",
    "    for genre in genres:\n",
    "        genre_pces[genre].append(np.nanmean(all_pces))\n",
    "        genre_nps[genre].append(np.nanmean(all_nps))\n"
   ],
   "id": "69e4fb4872456ea1",
   "outputs": [
    {
     "name": "stderr",
     "output_type": "stream",
     "text": [
      "100%|██████████| 4462/4462 [05:45<00:00, 12.91it/s] \n"
     ]
    }
   ],
   "execution_count": 7
  },
  {
   "metadata": {
    "ExecuteTime": {
     "end_time": "2025-04-28T15:44:42.330423Z",
     "start_time": "2025-04-28T15:44:42.317474Z"
    }
   },
   "cell_type": "code",
   "source": [
    "all_genre_res = []\n",
    "for genre in genre_pces.keys():\n",
    "    pces = genre_pces[genre]\n",
    "    nps = genre_nps[genre]\n",
    "    all_genre_res.append(dict(name=genre, pce=np.nanmean(pces), nps=np.nanmean(nps), pce_std=np.nanstd(pces), nps_std=np.nanstd(nps)))"
   ],
   "id": "9f6fd00e64d24b42",
   "outputs": [],
   "execution_count": 11
  },
  {
   "metadata": {
    "ExecuteTime": {
     "end_time": "2025-04-28T15:44:43.247936Z",
     "start_time": "2025-04-28T15:44:43.245334Z"
    }
   },
   "cell_type": "code",
   "source": "print(all_genre_res)",
   "id": "9a46ded01a746c02",
   "outputs": [
    {
     "name": "stdout",
     "output_type": "stream",
     "text": [
      "[{'name': 'Modal Jazz', 'pce': 2.3205347626462616, 'nps': 12.68698102587929, 'pce_std': 0.09782835343353792, 'nps_std': 3.5094506544103816}, {'name': 'Cool Jazz', 'pce': 2.299182973872169, 'nps': 12.334774011252078, 'pce_std': 0.13121041235785819, 'nps_std': 3.6441764604119213}, {'name': 'Avant-Garde Jazz', 'pce': 2.139401954796861, 'nps': 8.932536225917275, 'pce_std': 0.19680679959521866, 'nps_std': 3.5292486738039273}, {'name': 'Bop', 'pce': 2.26729999102986, 'nps': 11.03873190599587, 'pce_std': 0.10084360942423867, 'nps_std': 3.4141791493948994}, {'name': 'Straight-Ahead Jazz', 'pce': 2.236774390446702, 'nps': 10.251502381486512, 'pce_std': 0.15571346156863058, 'nps_std': 3.481853621506275}, {'name': 'Post-Bop', 'pce': 2.2233990397796175, 'nps': 9.815195767507836, 'pce_std': 0.1700710681237091, 'nps_std': 3.704240921291569}, {'name': 'Pop/Rock', 'pce': 2.2152690617352824, 'nps': 9.964073143955131, 'pce_std': 0.1452039316482642, 'nps_std': 4.324117629249228}, {'name': 'Hard Bop', 'pce': 2.2628734724609334, 'nps': 9.793156520010463, 'pce_std': 0.10643067800324982, 'nps_std': 3.252651778587524}, {'name': 'Soul Jazz', 'pce': 2.1936233191854893, 'nps': 10.670215067412782, 'pce_std': 0.11284724664032306, 'nps_std': 2.7213690973685365}, {'name': 'Blues', 'pce': 2.332621054104709, 'nps': 11.170012041394289, 'pce_std': 0.06668158970743718, 'nps_std': 2.3603393145161466}, {'name': 'Fusion', 'pce': 2.2705628683547836, 'nps': 8.76981846577915, 'pce_std': 0.13553696440049737, 'nps_std': 3.128970021965742}, {'name': 'Traditional & Early Jazz', 'pce': 2.271815257014619, 'nps': 11.03005496968515, 'pce_std': 0.09118290512647646, 'nps_std': 2.989396348297278}, {'name': 'Classical', 'pce': 2.086511350008761, 'nps': 8.627615325543653, 'pce_std': 0.1928576463451901, 'nps_std': 3.0685867425116373}, {'name': 'African', 'pce': 2.1005875912848424, 'nps': 6.171248650665011, 'pce_std': 0.175979625201509, 'nps_std': 2.6036095829748924}, {'name': 'Global', 'pce': 2.1366079711502453, 'nps': 6.545116025961373, 'pce_std': 0.1851598804238451, 'nps_std': 2.8301679216640414}, {'name': 'Easy Listening', 'pce': 2.2508848219236572, 'nps': 9.745181193482932, 'pce_std': 0.0920520550417885, 'nps_std': 3.430091370306823}, {'name': 'Latin', 'pce': 2.2076036802759704, 'nps': 6.3529933010646715, 'pce_std': 0.2056624499163711, 'nps_std': 3.1156404183193054}, {'name': 'Religious', 'pce': 2.1944974921876454, 'nps': 7.218367450138798, 'pce_std': 0.09342880147570436, 'nps_std': 2.1215692424001844}, {'name': 'Stage & Screen', 'pce': 2.2450351834139126, 'nps': 8.599352836868254, 'pce_std': 0.07544912685274299, 'nps_std': 2.287873665692166}, {'name': 'Caribbean', 'pce': 2.0521064531775584, 'nps': 4.381367516690227, 'pce_std': 0.23152468232726717, 'nps_std': 2.152448220495691}]\n"
     ]
    }
   ],
   "execution_count": 12
  },
  {
   "metadata": {
    "ExecuteTime": {
     "end_time": "2025-04-25T12:25:04.766040Z",
     "start_time": "2025-04-25T12:25:03.605685Z"
    }
   },
   "cell_type": "code",
   "source": [
    "bp = plotting.BarPlotGenrePCENPS(pd.DataFrame(all_genre_res))\n",
    "bp.create_plot()\n",
    "fpath = os.path.join(utils.get_project_root(), \"outputs/figures/tivo_metadata/barplot_genre_pce_nps\")\n",
    "bp.save_fig(fpath)"
   ],
   "id": "e20d76d135bd7b7e",
   "outputs": [
    {
     "name": "stderr",
     "output_type": "stream",
     "text": [
      "/home/hwc31/jazz-style-conditioned-generation/jazz_style_conditioned_generation/plotting.py:305: UserWarning: set_ticklabels() should only be used with a fixed number of ticks, i.e. after set_ticks() or using a FixedLocator.\n",
      "  ax_.set_xticklabels(ax_.get_xticklabels(), rotation=90)\n",
      "/home/hwc31/jazz-style-conditioned-generation/jazz_style_conditioned_generation/plotting.py:305: UserWarning: set_ticklabels() should only be used with a fixed number of ticks, i.e. after set_ticks() or using a FixedLocator.\n",
      "  ax_.set_xticklabels(ax_.get_xticklabels(), rotation=90)\n"
     ]
    }
   ],
   "execution_count": 7
  },
  {
   "metadata": {},
   "cell_type": "code",
   "outputs": [],
   "execution_count": null,
   "source": "",
   "id": "dfc5d297ed2d666c"
  }
 ],
 "metadata": {
  "kernelspec": {
   "display_name": "Python 3",
   "language": "python",
   "name": "python3"
  },
  "language_info": {
   "codemirror_mode": {
    "name": "ipython",
    "version": 2
   },
   "file_extension": ".py",
   "mimetype": "text/x-python",
   "name": "python",
   "nbconvert_exporter": "python",
   "pygments_lexer": "ipython2",
   "version": "2.7.6"
  }
 },
 "nbformat": 4,
 "nbformat_minor": 5
}

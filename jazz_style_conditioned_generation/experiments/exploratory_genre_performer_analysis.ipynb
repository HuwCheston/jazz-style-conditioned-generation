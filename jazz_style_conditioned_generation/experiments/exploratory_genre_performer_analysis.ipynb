{
 "cells": [
  {
   "metadata": {},
   "cell_type": "markdown",
   "source": [
    "## Exploratory analysis for differences between performers and genres\n",
    "\n",
    "Small little notebook that creates a few different plots showing numbers of genre/performer tags and basic features (sliding pitch class entropy, notes-per-second) between genres"
   ],
   "id": "5585ab3662686c32"
  },
  {
   "cell_type": "code",
   "id": "initial_id",
   "metadata": {
    "collapsed": true,
    "ExecuteTime": {
     "end_time": "2025-04-30T12:33:59.568998Z",
     "start_time": "2025-04-30T12:33:57.821644Z"
    }
   },
   "source": [
    "import os\n",
    "from collections import Counter, defaultdict\n",
    "\n",
    "import pandas as pd\n",
    "import numpy as np\n",
    "from tqdm import tqdm\n",
    "\n",
    "from jazz_style_conditioned_generation import utils, plotting\n",
    "from jazz_style_conditioned_generation.data.conditions import validate_condition_values, INCLUDE\n",
    "from jazz_style_conditioned_generation.data.scores import load_score, preprocess_score, get_notes_from_score"
   ],
   "outputs": [
    {
     "name": "stderr",
     "output_type": "stream",
     "text": [
      "/home/hwc31/jazz-style-conditioned-generation/venv/lib/python3.10/site-packages/tqdm/auto.py:21: TqdmWarning: IProgress not found. Please update jupyter and ipywidgets. See https://ipywidgets.readthedocs.io/en/stable/user_install.html\n",
      "  from .autonotebook import tqdm as notebook_tqdm\n"
     ]
    }
   ],
   "execution_count": 1
  },
  {
   "metadata": {},
   "cell_type": "markdown",
   "source": "### Genre weight counts",
   "id": "b1ccbfb8b6d2562b"
  },
  {
   "metadata": {
    "ExecuteTime": {
     "end_time": "2025-04-28T14:31:03.314068Z",
     "start_time": "2025-04-28T14:31:03.023687Z"
    }
   },
   "cell_type": "code",
   "source": [
    "js = utils.get_data_files_with_ext(\"data/raw\", \"**/*_tivo.json\")\n",
    "genre_count = Counter()\n",
    "albums = set()\n",
    "\n",
    "for p in js:\n",
    "    read = utils.read_json_cached(p)\n",
    "    dataset = p.split(os.path.sep)[-3]\n",
    "    album = read[\"pianist\"] + read[\"tivo_album_name\"]\n",
    "    if album not in albums:\n",
    "        if dataset != \"jja\" and dataset != \"bushgrafts\":\n",
    "            for gen in read[\"genres\"]:\n",
    "                genre_count[gen[\"weight\"]] += 1\n",
    "        albums.add(album)"
   ],
   "id": "a8eeb7a83382ae7e",
   "outputs": [],
   "execution_count": 2
  },
  {
   "metadata": {
    "ExecuteTime": {
     "end_time": "2025-04-28T14:31:05.349776Z",
     "start_time": "2025-04-28T14:31:04.961464Z"
    }
   },
   "cell_type": "code",
   "source": [
    "bp = plotting.BarPlotWeightDistribution(dict(genre_count))\n",
    "bp.create_plot()\n",
    "fpath = os.path.join(utils.get_project_root(), \"outputs/figures/tivo_metadata/barplot_genre_weights\")\n",
    "bp.save_fig(fpath)"
   ],
   "id": "4016f6db202a59e1",
   "outputs": [],
   "execution_count": 3
  },
  {
   "metadata": {},
   "cell_type": "markdown",
   "source": "### Performer/genre bar charts",
   "id": "1dfe66718a3c204"
  },
  {
   "metadata": {
    "ExecuteTime": {
     "end_time": "2025-04-30T12:34:06.872449Z",
     "start_time": "2025-04-30T12:34:06.561984Z"
    }
   },
   "cell_type": "code",
   "source": [
    "metadata = utils.get_data_files_with_ext(\"data/raw\", \"**/*_tivo.json\")\n",
    "metadata_read = [utils.read_json_cached(js) for js in metadata]"
   ],
   "id": "3cf6a6bca2294010",
   "outputs": [],
   "execution_count": 2
  },
  {
   "metadata": {
    "ExecuteTime": {
     "end_time": "2025-04-30T12:34:07.698359Z",
     "start_time": "2025-04-30T12:34:07.694939Z"
    }
   },
   "cell_type": "code",
   "source": [
    "def get_genres(metadat):\n",
    "    track_genres = [(i[\"name\"], i[\"weight\"]) for i in metadat[\"genres\"]]\n",
    "    validated = validate_condition_values(track_genres, \"genres\")\n",
    "    return [g for g, _ in validated]"
   ],
   "id": "aa132692c701620a",
   "outputs": [],
   "execution_count": 3
  },
  {
   "metadata": {
    "ExecuteTime": {
     "end_time": "2025-04-28T14:42:15.610440Z",
     "start_time": "2025-04-28T14:42:15.235529Z"
    }
   },
   "cell_type": "code",
   "source": [
    "pianist_res = Counter()\n",
    "genre_res = Counter()\n",
    "albums = set()\n",
    "\n",
    "for track_fp in metadata:\n",
    "    track = utils.read_json_cached(track_fp)\n",
    "    pianist = track[\"pianist\"]\n",
    "    album = track[\"pianist\"] + track[\"tivo_album_name\"]\n",
    "    if album in albums:\n",
    "        continue\n",
    "    if pianist != \"Doug McKenzie\":\n",
    "        pianist_res[pianist] += 1\n",
    "    for genre in track[\"genres\"]:\n",
    "        genre = genre[\"name\"]\n",
    "        genre_res[genre] += 1\n",
    "    albums.add(album)\n",
    "\n",
    "# Subset to get N top genres\n",
    "sorted_gen_res = Counter()\n",
    "for g, n in sorted(genre_res.items(), key=lambda d: d[1], reverse=True)[:25]:\n",
    "    for _ in range(n):\n",
    "        sorted_gen_res[g] += 1\n",
    "\n",
    "sorted_pin_res = Counter()\n",
    "for g, n in sorted(pianist_res.items(), key=lambda d: d[1], reverse=True)[:25]:\n",
    "    for _ in range(n):\n",
    "        sorted_pin_res[g] += 1"
   ],
   "id": "343aeee78a5e216c",
   "outputs": [],
   "execution_count": 5
  },
  {
   "metadata": {
    "ExecuteTime": {
     "end_time": "2025-04-28T14:36:24.865339Z",
     "start_time": "2025-04-28T14:36:23.631994Z"
    }
   },
   "cell_type": "code",
   "source": [
    "bp = plotting.BarPlotPianistGenreCount([sorted_pin_res, sorted_gen_res])\n",
    "bp.create_plot()\n",
    "fpath = os.path.join(utils.get_project_root(), \"outputs/figures/tivo_metadata/barplot_performer_genre_counts\")\n",
    "bp.save_fig(fpath)"
   ],
   "id": "8c4a4d4aa77829c8",
   "outputs": [],
   "execution_count": 5
  },
  {
   "metadata": {},
   "cell_type": "markdown",
   "source": "### Grouped genre bar chart",
   "id": "d6de43c74184ddd9"
  },
  {
   "metadata": {
    "ExecuteTime": {
     "end_time": "2025-04-30T12:34:11.189009Z",
     "start_time": "2025-04-30T12:34:11.017344Z"
    }
   },
   "cell_type": "code",
   "source": [
    "genre_res = Counter()\n",
    "albums = set()\n",
    "\n",
    "artist_metadatas = utils.get_data_files_with_ext(\"references/tivo_artist_metadata\", \"**/*.json\")\n",
    "\n",
    "for track_fp in metadata:\n",
    "    track = utils.read_json_cached(track_fp)\n",
    "    track_genres = get_genres(track)\n",
    "    # Use genres associated with the track, if we have these\n",
    "    if len(track_genres) > 0:\n",
    "        for gen in track_genres:\n",
    "            genre_res[gen] += 1\n",
    "    # Otherwise, use genres associated with the pianist\n",
    "    else:\n",
    "        pianist = track[\"pianist\"]\n",
    "        art_fp = os.path.join(utils.get_project_root(), \"references/tivo_artist_metadata\", pianist.replace(\" \", \"\") + \".json\")\n",
    "        if os.path.isfile(art_fp):\n",
    "            art_js = utils.read_json_cached(art_fp)\n",
    "            for gen in get_genres(art_js):\n",
    "                genre_res[gen] += 1\n"
   ],
   "id": "b5e1e32e6e241305",
   "outputs": [],
   "execution_count": 4
  },
  {
   "metadata": {
    "ExecuteTime": {
     "end_time": "2025-04-30T12:34:13.971210Z",
     "start_time": "2025-04-30T12:34:13.220083Z"
    }
   },
   "cell_type": "code",
   "source": [
    "bp = plotting.BarPlotGroupedGenreCounts(genre_res)\n",
    "bp.create_plot()\n",
    "fpath = os.path.join(utils.get_project_root(), \"outputs/figures/tivo_metadata/barplot_grouped_genre_counts\")\n",
    "bp.save_fig(fpath)"
   ],
   "id": "e66e9fb1f91c8972",
   "outputs": [],
   "execution_count": 5
  },
  {
   "metadata": {},
   "cell_type": "markdown",
   "source": "### Performer/genre heatmap",
   "id": "b93b6f3d833304d1"
  },
  {
   "metadata": {
    "ExecuteTime": {
     "end_time": "2025-04-28T14:43:35.347644Z",
     "start_time": "2025-04-28T14:43:35.328983Z"
    }
   },
   "cell_type": "code",
   "source": [
    "res = []    # store results\n",
    "# Loading genres from all track metadata\n",
    "for track in metadata_read:\n",
    "    pianist = track[\"pianist\"]\n",
    "    if pianist not in INCLUDE[\"pianist\"]:\n",
    "        continue\n",
    "    for genre in get_genres(track):\n",
    "        res.append(dict(performer=track[\"pianist\"], genre=genre))"
   ],
   "id": "a1c1df1a482eb23c",
   "outputs": [],
   "execution_count": 9
  },
  {
   "metadata": {
    "ExecuteTime": {
     "end_time": "2025-04-28T14:43:36.838686Z",
     "start_time": "2025-04-28T14:43:36.829385Z"
    }
   },
   "cell_type": "code",
   "source": [
    "# Loading genres from all artist metadata\n",
    "artist_metadatas = utils.get_data_files_with_ext(\"references/tivo_artist_metadata\", \"**/*.json\")\n",
    "for art in artist_metadatas:\n",
    "    read = utils.read_json_cached(art)\n",
    "    pianist = read[\"tivo_artist_name\"]\n",
    "    if pianist not in INCLUDE[\"pianist\"]:\n",
    "        continue\n",
    "    for genre in get_genres(read):\n",
    "        res.append(dict(performer=pianist, genre=genre))"
   ],
   "id": "67f85d5f9f410300",
   "outputs": [],
   "execution_count": 10
  },
  {
   "metadata": {
    "ExecuteTime": {
     "end_time": "2025-04-25T10:03:47.589654Z",
     "start_time": "2025-04-25T10:03:45.672987Z"
    }
   },
   "cell_type": "code",
   "source": [
    "# Create the plot\n",
    "hm = plotting.HeatmapPerformerGenreCounts(pd.DataFrame(res))\n",
    "hm.create_plot()\n",
    "fpath = os.path.join(utils.get_project_root(), \"outputs/figures/tivo_metadata/heatmap_performer_genre_counts\")\n",
    "hm.save_fig(fpath)"
   ],
   "id": "8fa6a91143cfcd71",
   "outputs": [
    {
     "name": "stderr",
     "output_type": "stream",
     "text": [
      "/home/hwc31/jazz-style-conditioned-generation/jazz_style_conditioned_generation/plotting.py:235: FutureWarning: Setting an item of incompatible dtype is deprecated and will raise an error in a future version of pandas. Value '' has dtype incompatible with int64, please explicitly cast to a compatible dtype first.\n",
      "  mask[mask == 0] = \"\"\n"
     ]
    }
   ],
   "execution_count": 6
  },
  {
   "metadata": {},
   "cell_type": "markdown",
   "source": "### Extract sliding pitch-class entropy + notes-per-second per genre",
   "id": "d1eb937627222f3"
  },
  {
   "metadata": {
    "ExecuteTime": {
     "end_time": "2025-04-30T12:37:45.070128Z",
     "start_time": "2025-04-30T12:37:45.067237Z"
    }
   },
   "cell_type": "code",
   "source": [
    "def pc_entropy(notes_) -> float:\n",
    "    # Shamelessly ripped from muspy ;)\n",
    "    counter = np.zeros(12)\n",
    "    for note in notes_:\n",
    "        counter[note.pitch % 12] += 1\n",
    "    denominator = counter.sum()\n",
    "    if denominator < 1:\n",
    "        entropy = np.nan\n",
    "    else:\n",
    "        prob = counter / denominator\n",
    "        with np.errstate(divide=\"ignore\", invalid=\"ignore\"):\n",
    "            # Use natural log (not base 2) for compatibility with PiJAMA paper\n",
    "            entropy = -np.nansum(prob * np.log(prob))\n",
    "    return entropy"
   ],
   "id": "a27e9d4289b8d888",
   "outputs": [],
   "execution_count": 6
  },
  {
   "metadata": {
    "ExecuteTime": {
     "end_time": "2025-04-30T12:44:46.136768Z",
     "start_time": "2025-04-30T12:37:47.121340Z"
    }
   },
   "cell_type": "code",
   "source": [
    "WINDOW = 15    # window size used for sliding pitch class entropy, as in PiJAMA\n",
    "genre_pces = defaultdict(list)\n",
    "genre_nps = defaultdict(list)\n",
    "\n",
    "for track_fp in tqdm(metadata):\n",
    "    # Getting genres associated with the track + artist\n",
    "    track = utils.read_json_cached(track_fp)\n",
    "    pianist = track[\"pianist\"]\n",
    "    genres = get_genres(track)\n",
    "\n",
    "    # If the track has no genres\n",
    "    if len(genres) == 0:\n",
    "        # Try getting the genres for the pianist\n",
    "        pianist = track[\"pianist\"]\n",
    "        art_fp = os.path.join(utils.get_project_root(), \"references/tivo_artist_metadata\", pianist.replace(\" \", \"\") + \".json\")\n",
    "        if os.path.isfile(art_fp):\n",
    "            art_js = utils.read_json_cached(art_fp)\n",
    "            genres = get_genres(art_js)\n",
    "    # If the track still has no genres, skip over it\n",
    "    if len(genres) == 0:\n",
    "        continue\n",
    "   \n",
    "    # Load up the score\n",
    "    score_path = track_fp.replace(\"metadata_tivo.json\", \"piano_midi.mid\")\n",
    "    score = preprocess_score(load_score(score_path, as_seconds=True))\n",
    "    \n",
    "    # Extract sliding pitch-class entropy\n",
    "    notes = get_notes_from_score(score)\n",
    "    all_pces = []\n",
    "    for start in range(0, round(score.end()) - WINDOW):    # 1 second hop\n",
    "        end = start + WINDOW\n",
    "        notes_in_window = [n for n in notes if start < n.time < end]\n",
    "        all_pces.append(pc_entropy(notes_in_window))\n",
    "        \n",
    "    # Extract notes-per-second\n",
    "    all_nps = []\n",
    "    for start in range(0, round(score.end())):    # 1 second hop\n",
    "        end = start + 1.\n",
    "        notes_in_window = [n for n in notes if start < n.time < end]\n",
    "        all_nps.append(len(notes_in_window))\n",
    "    \n",
    "    # Append results for all genres\n",
    "    for genre in genres:\n",
    "        genre_pces[genre].append(np.nanmean(all_pces))\n",
    "        genre_nps[genre].append(np.nanmean(all_nps))\n"
   ],
   "id": "69e4fb4872456ea1",
   "outputs": [
    {
     "name": "stderr",
     "output_type": "stream",
     "text": [
      " 69%|██████▉   | 3094/4462 [04:20<03:15,  7.01it/s] /tmp/ipykernel_224691/3963810610.py:44: RuntimeWarning: Mean of empty slice\n",
      "  genre_pces[genre].append(np.nanmean(all_pces))\n",
      "100%|██████████| 4462/4462 [06:59<00:00, 10.65it/s]\n"
     ]
    }
   ],
   "execution_count": 7
  },
  {
   "metadata": {
    "ExecuteTime": {
     "end_time": "2025-04-30T12:44:48.205106Z",
     "start_time": "2025-04-30T12:44:48.193636Z"
    }
   },
   "cell_type": "code",
   "source": [
    "all_genre_res = []\n",
    "for genre in genre_pces.keys():\n",
    "    pces = genre_pces[genre]\n",
    "    nps = genre_nps[genre]\n",
    "    all_genre_res.append(dict(name=genre, pce=np.nanmean(pces), nps=np.nanmean(nps), pce_std=np.nanstd(pces), nps_std=np.nanstd(nps)))"
   ],
   "id": "9f6fd00e64d24b42",
   "outputs": [],
   "execution_count": 8
  },
  {
   "metadata": {
    "ExecuteTime": {
     "end_time": "2025-04-30T12:44:49.603001Z",
     "start_time": "2025-04-30T12:44:49.599521Z"
    }
   },
   "cell_type": "code",
   "source": "print(all_genre_res)",
   "id": "9a46ded01a746c02",
   "outputs": [
    {
     "name": "stdout",
     "output_type": "stream",
     "text": [
      "[{'name': 'Modal Jazz', 'pce': 2.3225340140096793, 'nps': 12.555312613200838, 'pce_std': 0.09547253848746712, 'nps_std': 3.4820555475207158}, {'name': 'Cool Jazz', 'pce': 2.295009714217528, 'nps': 12.17196437334959, 'pce_std': 0.12292558112396135, 'nps_std': 3.5183871145150176}, {'name': 'Avant-Garde Jazz', 'pce': 2.1408029775780197, 'nps': 8.285429387069097, 'pce_std': 0.19858996847722968, 'nps_std': 3.4098950628065747}, {'name': 'Bop', 'pce': 2.268473589865863, 'nps': 11.007015960806614, 'pce_std': 0.09957792806220905, 'nps_std': 3.364436925740267}, {'name': 'Straight-Ahead Jazz', 'pce': 2.2318851039060057, 'nps': 9.786057899353397, 'pce_std': 0.14700442588239152, 'nps_std': 3.5164875526171175}, {'name': 'Post-Bop', 'pce': 2.2198353692209896, 'nps': 9.369270956505655, 'pce_std': 0.16835922027681757, 'nps_std': 3.6825243736789552}, {'name': 'Pop/Rock', 'pce': 2.2160521948793663, 'nps': 9.939947806282786, 'pce_std': 0.14429701850174592, 'nps_std': 4.291618050924111}, {'name': 'Hard Bop', 'pce': 2.263774751813947, 'nps': 9.735082749473607, 'pce_std': 0.10766150068902067, 'nps_std': 3.2166905344303114}, {'name': 'Classical', 'pce': 2.1997004812353596, 'nps': 9.114658527125867, 'pce_std': 0.15867992055472427, 'nps_std': 3.4138203480150717}, {'name': 'Soul Jazz', 'pce': 2.2119615789629115, 'nps': 10.85089903670079, 'pce_std': 0.10698910726401448, 'nps_std': 2.7947778127773755}, {'name': 'African', 'pce': 2.0532156976266465, 'nps': 5.589069399294632, 'pce_std': 0.19327470107976666, 'nps_std': 2.6053351745379154}, {'name': 'Global', 'pce': 2.112769883507031, 'nps': 6.442698129199178, 'pce_std': 0.19874157057871758, 'nps_std': 2.9895192491568787}, {'name': 'Blues', 'pce': 2.311591369364271, 'nps': 11.10358816764627, 'pce_std': 0.08940384943709495, 'nps_std': 2.456454967422399}, {'name': 'Traditional & Early Jazz', 'pce': 2.272080147442461, 'nps': 11.008582438638538, 'pce_std': 0.08853953677417215, 'nps_std': 3.0578371392349113}, {'name': 'Latin', 'pce': 2.1752061945653143, 'nps': 7.174514422318643, 'pce_std': 0.20508321324365264, 'nps_std': 3.63020343919965}, {'name': 'Fusion', 'pce': 2.194968394212229, 'nps': 8.31433375815765, 'pce_std': 0.16456872566318062, 'nps_std': 3.3417253439681063}, {'name': 'Stage & Screen', 'pce': 2.2552658410505297, 'nps': 9.352430935338784, 'pce_std': 0.10763909223080671, 'nps_std': 3.011477437697679}, {'name': 'Easy Listening', 'pce': 2.235256465351411, 'nps': 9.54209274095042, 'pce_std': 0.11706326621373402, 'nps_std': 3.7120575552572004}, {'name': 'Religious', 'pce': 2.121220418566546, 'nps': 6.615725451542168, 'pce_std': 0.12536457609711163, 'nps_std': 2.502632600945132}, {'name': 'Caribbean', 'pce': 2.097651024487423, 'nps': 4.647953683967799, 'pce_std': 0.23077520163557055, 'nps_std': 1.9994735987726013}]\n"
     ]
    }
   ],
   "execution_count": 9
  },
  {
   "metadata": {
    "ExecuteTime": {
     "end_time": "2025-04-30T12:52:08.127629Z",
     "start_time": "2025-04-30T12:52:08.110158Z"
    }
   },
   "cell_type": "code",
   "source": [
    "all_pces = [x for xs in genre_pces.values() for x in xs]\n",
    "all_nps = [x for xs in genre_nps.values() for x in xs]\n",
    "res_for_corr = np.array([(pc, nps) for pc, nps in zip(all_pces, all_nps) if not np.isnan(pc) and not np.isnan(nps)])\n",
    "print(np.corrcoef(res_for_corr.transpose()), res_for_corr.shape)"
   ],
   "id": "f578e86d608fc370",
   "outputs": [
    {
     "name": "stdout",
     "output_type": "stream",
     "text": [
      "[[1.         0.39498525]\n",
      " [0.39498525 1.        ]] (8732, 2)\n"
     ]
    }
   ],
   "execution_count": 21
  },
  {
   "metadata": {
    "ExecuteTime": {
     "end_time": "2025-04-30T12:44:54.648055Z",
     "start_time": "2025-04-30T12:44:53.636305Z"
    }
   },
   "cell_type": "code",
   "source": [
    "bp = plotting.BarPlotGenrePCENPS(pd.DataFrame(all_genre_res))\n",
    "bp.create_plot()\n",
    "fpath = os.path.join(utils.get_project_root(), \"outputs/figures/tivo_metadata/barplot_genre_pce_nps\")\n",
    "bp.save_fig(fpath)"
   ],
   "id": "e20d76d135bd7b7e",
   "outputs": [
    {
     "name": "stderr",
     "output_type": "stream",
     "text": [
      "/home/hwc31/jazz-style-conditioned-generation/jazz_style_conditioned_generation/plotting.py:305: UserWarning: set_ticklabels() should only be used with a fixed number of ticks, i.e. after set_ticks() or using a FixedLocator.\n",
      "  ax_.set_xticklabels(ax_.get_xticklabels(), rotation=90)\n",
      "/home/hwc31/jazz-style-conditioned-generation/jazz_style_conditioned_generation/plotting.py:305: UserWarning: set_ticklabels() should only be used with a fixed number of ticks, i.e. after set_ticks() or using a FixedLocator.\n",
      "  ax_.set_xticklabels(ax_.get_xticklabels(), rotation=90)\n"
     ]
    }
   ],
   "execution_count": 10
  }
 ],
 "metadata": {
  "kernelspec": {
   "display_name": "Python 3",
   "language": "python",
   "name": "python3"
  },
  "language_info": {
   "codemirror_mode": {
    "name": "ipython",
    "version": 2
   },
   "file_extension": ".py",
   "mimetype": "text/x-python",
   "name": "python",
   "nbconvert_exporter": "python",
   "pygments_lexer": "ipython2",
   "version": "2.7.6"
  }
 },
 "nbformat": 4,
 "nbformat_minor": 5
}

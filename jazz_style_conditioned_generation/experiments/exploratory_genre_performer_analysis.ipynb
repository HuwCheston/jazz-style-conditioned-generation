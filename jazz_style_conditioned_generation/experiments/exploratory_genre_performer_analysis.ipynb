{
 "cells": [
  {
   "metadata": {},
   "cell_type": "markdown",
   "source": [
    "## Exploratory analysis for differences between performers and genres\n",
    "\n",
    "Small little notebook that creates a few different plots showing numbers of genre/performer tags and basic features (sliding pitch class entropy, notes-per-second) between genres"
   ],
   "id": "5585ab3662686c32"
  },
  {
   "cell_type": "code",
   "id": "initial_id",
   "metadata": {
    "collapsed": true,
    "ExecuteTime": {
     "end_time": "2025-04-25T12:18:52.430865Z",
     "start_time": "2025-04-25T12:18:50.590358Z"
    }
   },
   "source": [
    "import os\n",
    "from collections import Counter, defaultdict\n",
    "\n",
    "import pandas as pd\n",
    "import numpy as np\n",
    "from tqdm import tqdm\n",
    "\n",
    "from jazz_style_conditioned_generation import utils, plotting\n",
    "from jazz_style_conditioned_generation.data.conditions import validate_condition_values, INCLUDE\n",
    "from jazz_style_conditioned_generation.data.scores import load_score, preprocess_score, get_notes_from_score"
   ],
   "outputs": [
    {
     "name": "stderr",
     "output_type": "stream",
     "text": [
      "/home/hwc31/jazz-style-conditioned-generation/venv/lib/python3.10/site-packages/tqdm/auto.py:21: TqdmWarning: IProgress not found. Please update jupyter and ipywidgets. See https://ipywidgets.readthedocs.io/en/stable/user_install.html\n",
      "  from .autonotebook import tqdm as notebook_tqdm\n"
     ]
    }
   ],
   "execution_count": 1
  },
  {
   "metadata": {},
   "cell_type": "markdown",
   "source": "### Performer/genre bar charts",
   "id": "1dfe66718a3c204"
  },
  {
   "metadata": {
    "ExecuteTime": {
     "end_time": "2025-04-25T12:19:00.811953Z",
     "start_time": "2025-04-25T12:19:00.503948Z"
    }
   },
   "cell_type": "code",
   "source": [
    "metadata = utils.get_data_files_with_ext(\"data/raw\", \"**/*_tivo.json\")\n",
    "metadata_read = [utils.read_json_cached(js) for js in metadata]"
   ],
   "id": "3cf6a6bca2294010",
   "outputs": [],
   "execution_count": 2
  },
  {
   "metadata": {
    "ExecuteTime": {
     "end_time": "2025-04-25T12:19:01.256827Z",
     "start_time": "2025-04-25T12:19:01.253273Z"
    }
   },
   "cell_type": "code",
   "source": [
    "def get_genres(metadat):\n",
    "    track_genres = [(i[\"name\"], i[\"weight\"]) for i in metadat[\"genres\"]]\n",
    "    validated = validate_condition_values(track_genres, \"genres\")\n",
    "    return [g for g, _ in validated]"
   ],
   "id": "aa132692c701620a",
   "outputs": [],
   "execution_count": 3
  },
  {
   "metadata": {
    "ExecuteTime": {
     "end_time": "2025-04-25T12:35:02.629978Z",
     "start_time": "2025-04-25T12:35:02.247007Z"
    }
   },
   "cell_type": "code",
   "source": [
    "pianist_res = Counter()\n",
    "genre_res = Counter()\n",
    "\n",
    "for track_fp in metadata:\n",
    "    track = utils.read_json_cached(track_fp)\n",
    "    pianist = track[\"pianist\"]\n",
    "    fp = os.path.join(utils.get_project_root(), \"references/tivo_artist_metadata\", pianist.replace(\" \", \"\") + \".json\")\n",
    "    if pianist != \"Doug McKenzie\":\n",
    "        pianist_res[pianist] += 1\n",
    "    # for genre in get_genres(track):\n",
    "    #     genre_res[genre] += 1\n",
    "    for genre in track[\"genres\"]:\n",
    "        genre = genre[\"name\"]\n",
    "        genre_res[genre] += 1\n",
    "\n",
    "# Subset to get N top genres\n",
    "sorted_gen_res = Counter()\n",
    "for g, n in sorted(genre_res.items(), key=lambda d: d[1], reverse=True)[:25]:\n",
    "    for _ in range(n):\n",
    "        sorted_gen_res[g] += 1\n",
    "\n",
    "sorted_pin_res = Counter()\n",
    "for g, n in sorted(pianist_res.items(), key=lambda d: d[1], reverse=True)[:25]:\n",
    "    for _ in range(n):\n",
    "        sorted_pin_res[g] += 1"
   ],
   "id": "343aeee78a5e216c",
   "outputs": [],
   "execution_count": 32
  },
  {
   "metadata": {
    "ExecuteTime": {
     "end_time": "2025-04-25T12:35:04.185888Z",
     "start_time": "2025-04-25T12:35:03.102710Z"
    }
   },
   "cell_type": "code",
   "source": [
    "bp = plotting.BarPlotPianistGenreCount([sorted_pin_res, sorted_gen_res])\n",
    "bp.create_plot()\n",
    "fpath = os.path.join(utils.get_project_root(), \"outputs/figures/tivo_metadata/barplot_performer_genre_counts\")\n",
    "bp.save_fig(fpath)"
   ],
   "id": "8c4a4d4aa77829c8",
   "outputs": [],
   "execution_count": 33
  },
  {
   "metadata": {},
   "cell_type": "markdown",
   "source": "### Performer/genre heatmap",
   "id": "b93b6f3d833304d1"
  },
  {
   "metadata": {
    "ExecuteTime": {
     "end_time": "2025-04-25T10:03:45.568386Z",
     "start_time": "2025-04-25T10:03:45.523794Z"
    }
   },
   "cell_type": "code",
   "source": [
    "res = []    # store results\n",
    "# Loading genres from all track metadata\n",
    "for track in metadata_read:\n",
    "    pianist = track[\"pianist\"]\n",
    "    if pianist not in INCLUDE[\"pianist\"]:\n",
    "        continue\n",
    "    for genre in get_genres(track):\n",
    "        res.append(dict(performer=track[\"pianist\"], genre=genre))"
   ],
   "id": "a1c1df1a482eb23c",
   "outputs": [],
   "execution_count": 4
  },
  {
   "metadata": {
    "ExecuteTime": {
     "end_time": "2025-04-25T10:03:45.638005Z",
     "start_time": "2025-04-25T10:03:45.605109Z"
    }
   },
   "cell_type": "code",
   "source": [
    "# Loading genres from all artist metadata\n",
    "artist_metadatas = utils.get_data_files_with_ext(\"references/tivo_artist_metadata\", \"**/*.json\")\n",
    "for art in artist_metadatas:\n",
    "    read = utils.read_json_cached(art)\n",
    "    pianist = read[\"tivo_artist_name\"]\n",
    "    if pianist not in INCLUDE[\"pianist\"]:\n",
    "        continue\n",
    "    for genre in get_genres(read):\n",
    "        res.append(dict(performer=pianist, genre=genre))"
   ],
   "id": "67f85d5f9f410300",
   "outputs": [],
   "execution_count": 5
  },
  {
   "metadata": {
    "ExecuteTime": {
     "end_time": "2025-04-25T10:03:47.589654Z",
     "start_time": "2025-04-25T10:03:45.672987Z"
    }
   },
   "cell_type": "code",
   "source": [
    "# Create the plot\n",
    "hm = plotting.HeatmapPerformerGenreCounts(pd.DataFrame(res))\n",
    "hm.create_plot()\n",
    "fpath = os.path.join(utils.get_project_root(), \"outputs/figures/tivo_metadata/heatmap_performer_genre_counts\")\n",
    "hm.save_fig(fpath)"
   ],
   "id": "8fa6a91143cfcd71",
   "outputs": [
    {
     "name": "stderr",
     "output_type": "stream",
     "text": [
      "/home/hwc31/jazz-style-conditioned-generation/jazz_style_conditioned_generation/plotting.py:235: FutureWarning: Setting an item of incompatible dtype is deprecated and will raise an error in a future version of pandas. Value '' has dtype incompatible with int64, please explicitly cast to a compatible dtype first.\n",
      "  mask[mask == 0] = \"\"\n"
     ]
    }
   ],
   "execution_count": 6
  },
  {
   "metadata": {},
   "cell_type": "markdown",
   "source": "### Extract sliding pitch-class entropy + notes-per-second per genre",
   "id": "d1eb937627222f3"
  },
  {
   "metadata": {
    "ExecuteTime": {
     "end_time": "2025-04-25T12:19:06.005795Z",
     "start_time": "2025-04-25T12:19:06.001556Z"
    }
   },
   "cell_type": "code",
   "source": [
    "def pc_entropy(notes_) -> float:\n",
    "    # Shamelessly ripped from muspy ;)\n",
    "    counter = np.zeros(12)\n",
    "    for note in notes_:\n",
    "        counter[note.pitch % 12] += 1\n",
    "    denominator = counter.sum()\n",
    "    if denominator < 1:\n",
    "        entropy = np.nan\n",
    "    else:\n",
    "        prob = counter / denominator\n",
    "        with np.errstate(divide=\"ignore\", invalid=\"ignore\"):\n",
    "            # Use natural log (not base 2) for compatibility with PiJAMA paper\n",
    "            entropy = -np.nansum(prob * np.log(prob))\n",
    "    return entropy"
   ],
   "id": "a27e9d4289b8d888",
   "outputs": [],
   "execution_count": 4
  },
  {
   "metadata": {
    "ExecuteTime": {
     "end_time": "2025-04-25T12:24:57.700583Z",
     "start_time": "2025-04-25T12:19:07.210065Z"
    }
   },
   "cell_type": "code",
   "source": [
    "WINDOW = 15    # window size used for sliding pitch class entropy, as in PiJAMA\n",
    "genre_pces = defaultdict(list)\n",
    "genre_nps = defaultdict(list)\n",
    "\n",
    "for track_fp in tqdm(metadata):\n",
    "    # Getting genres associated with the track + artist\n",
    "    track = utils.read_json_cached(track_fp)\n",
    "    pianist = track[\"pianist\"]\n",
    "    genres = get_genres(track)\n",
    "    fp = os.path.join(utils.get_project_root(), \"references/tivo_artist_metadata\", pianist.replace(\" \", \"\") + \".json\")\n",
    "    \n",
    "    # Skip over tracks with no genres\n",
    "    if len(genres) == 0:\n",
    "        continue    \n",
    "    \n",
    "    # Load up the score\n",
    "    score_path = track_fp.replace(\"metadata_tivo.json\", \"piano_midi.mid\")\n",
    "    score = preprocess_score(load_score(score_path, as_seconds=True))\n",
    "    \n",
    "    # Extract sliding pitch-class entropy\n",
    "    notes = get_notes_from_score(score)\n",
    "    all_pces = []\n",
    "    for start in range(0, round(score.end()) - WINDOW):    # 1 second hop\n",
    "        end = start + WINDOW\n",
    "        notes_in_window = [n for n in notes if start < n.time < end]\n",
    "        all_pces.append(pc_entropy(notes_in_window))\n",
    "        \n",
    "    # Extract notes-per-second\n",
    "    all_nps = []\n",
    "    for start in range(0, round(score.end())):    # 1 second hop\n",
    "        end = start + 1.\n",
    "        notes_in_window = [n for n in notes if start < n.time < end]\n",
    "        all_nps.append(len(notes_in_window))\n",
    "    \n",
    "    # Append results for all genres\n",
    "    for genre in genres:\n",
    "        genre_pces[genre].append(np.nanmean(all_pces))\n",
    "        genre_nps[genre].append(np.nanmean(all_nps))\n"
   ],
   "id": "69e4fb4872456ea1",
   "outputs": [
    {
     "name": "stderr",
     "output_type": "stream",
     "text": [
      "100%|██████████| 4462/4462 [05:50<00:00, 12.73it/s] \n"
     ]
    }
   ],
   "execution_count": 5
  },
  {
   "metadata": {
    "ExecuteTime": {
     "end_time": "2025-04-25T12:25:02.696923Z",
     "start_time": "2025-04-25T12:25:02.691453Z"
    }
   },
   "cell_type": "code",
   "source": [
    "all_genre_res = []\n",
    "for genre in genre_pces.keys():\n",
    "    pces = genre_pces[genre]\n",
    "    nps = genre_nps[genre]\n",
    "    all_genre_res.append(dict(name=genre, pce=np.nanmean(pces), nps=np.nanmean(nps)))"
   ],
   "id": "9f6fd00e64d24b42",
   "outputs": [],
   "execution_count": 6
  },
  {
   "metadata": {
    "ExecuteTime": {
     "end_time": "2025-04-25T12:25:04.766040Z",
     "start_time": "2025-04-25T12:25:03.605685Z"
    }
   },
   "cell_type": "code",
   "source": [
    "bp = plotting.BarPlotGenrePCENPS(pd.DataFrame(all_genre_res))\n",
    "bp.create_plot()\n",
    "fpath = os.path.join(utils.get_project_root(), \"outputs/figures/tivo_metadata/barplot_genre_pce_nps\")\n",
    "bp.save_fig(fpath)"
   ],
   "id": "e20d76d135bd7b7e",
   "outputs": [
    {
     "name": "stderr",
     "output_type": "stream",
     "text": [
      "/home/hwc31/jazz-style-conditioned-generation/jazz_style_conditioned_generation/plotting.py:305: UserWarning: set_ticklabels() should only be used with a fixed number of ticks, i.e. after set_ticks() or using a FixedLocator.\n",
      "  ax_.set_xticklabels(ax_.get_xticklabels(), rotation=90)\n",
      "/home/hwc31/jazz-style-conditioned-generation/jazz_style_conditioned_generation/plotting.py:305: UserWarning: set_ticklabels() should only be used with a fixed number of ticks, i.e. after set_ticks() or using a FixedLocator.\n",
      "  ax_.set_xticklabels(ax_.get_xticklabels(), rotation=90)\n"
     ]
    }
   ],
   "execution_count": 7
  },
  {
   "metadata": {},
   "cell_type": "code",
   "outputs": [],
   "execution_count": null,
   "source": "",
   "id": "dfc5d297ed2d666c"
  }
 ],
 "metadata": {
  "kernelspec": {
   "display_name": "Python 3",
   "language": "python",
   "name": "python3"
  },
  "language_info": {
   "codemirror_mode": {
    "name": "ipython",
    "version": 2
   },
   "file_extension": ".py",
   "mimetype": "text/x-python",
   "name": "python",
   "nbconvert_exporter": "python",
   "pygments_lexer": "ipython2",
   "version": "2.7.6"
  }
 },
 "nbformat": 4,
 "nbformat_minor": 5
}
